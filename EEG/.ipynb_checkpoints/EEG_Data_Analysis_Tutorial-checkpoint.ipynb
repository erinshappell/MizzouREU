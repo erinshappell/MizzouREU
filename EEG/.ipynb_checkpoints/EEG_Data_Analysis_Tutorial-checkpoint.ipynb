{
 "cells": [
  {
   "cell_type": "markdown",
   "metadata": {},
   "source": [
    "# Welcome to the EEG Tutorial!\n",
    "---\n",
    "\n",
    "This tutorial will walk you through how to plot and analyze your own EEG data measured and recorded using the OpenBCI software. We will be reading the data, plotting each EEG waveform, and adding interactive sliders so that we can view specific portions of the wave."
   ]
  },
  {
   "cell_type": "markdown",
   "metadata": {},
   "source": [
    "First, let's talk about what an EEG wave is and what it can tell us.\n",
    "\n",
    "EEG stands for __electroencephalogram__, which is a test that records the electrical signals produced by the brain. Our brain cells communicate using electrical signals and we can measure some of these signals using special electrodes. A signal may be classified by its __frequency__ (number of impulses measured per second) and __amplitude__ (the strength of each impulse).\n",
    "\n",
    "![alt_text](https://i1.wp.com/www.mindovermenieres.com/wp-content/uploads/2015/12/brainwave-chart-01.png?w=600 \"Types of EEG Waves\")\n",
    "\n",
    "Click the YouTube link below to learn about all _five_ types of brain waves and when each one occurs. \n",
    "\n",
    "[![IMAGE ALT TEXT HERE](http://img.youtube.com/vi/Y8CejGESrRkc/0.jpg)](http://www.youtube.com/watch?v=8CejGESrRkc)"
   ]
  },
  {
   "cell_type": "markdown",
   "metadata": {},
   "source": [
    "So, now that we know what some of these waves look like, let's examine our own brain waves and see what we find! We probably won't see any __delta__ or __theta__ waves (unless you were very committed and _fell asleep_ while taking measurements) but if you closed your eyes and relaxed at any point, you may catch an __alpha__ wave somewhere in your data.\n",
    "\n",
    "Below are several __code blocks__ filled with Python code. To examine our waves, we need to __run__ each of these blocks in order. To run a code block, select the block by _clicking the block once_ (you should see a green block appear around the cell) then _press [SHIFT] and [ENTER] at the same time_.\n",
    "\n",
    "The first code block below will require you to change a line of code--be sure to follow the instructions so that you read the correct EEG data file!\n",
    "\n",
    "Some code blocks will create interactive plots of your EEG waves that you can change using __sliders__.\n",
    "\n",
    "#### Good luck and enjoy the waves!\n",
    "\n",
    "---"
   ]
  },
  {
   "cell_type": "code",
   "execution_count": 1,
   "metadata": {},
   "outputs": [],
   "source": [
    "# Let's begin by importing our libraries:\n",
    "import pandas as pd\n",
    "import numpy as np\n",
    "import matplotlib.pyplot as plt\n",
    "from ipywidgets import *\n",
    "\n",
    "# ...And reading in our data:\n",
    "# We want to skip the first 6 rows since they contain comments\n",
    "# and we want to give our data some column labels:\n",
    "headers = ['Index','EEG_1','EEG_2','EEG_3','EEG_4','ACC_1','ACC_2','ACC_3','Timestamp_1','Timestamp_2']\n",
    "\n",
    "### CHANGE THIS LINE BELOW\n",
    "# Where is says 'EEG_orig.csv', change this to the name of YOUR EEG data file--keep the single quotes!\n",
    "eeg_data = pd.read_csv('EEG_orig.csv',skiprows=[0,1,2,3,4,5],names=headers)\n",
    "\n",
    "# Uncomment the line below to print a preview of the data\n",
    "#print(eeg_data)"
   ]
  },
  {
   "cell_type": "code",
   "execution_count": 2,
   "metadata": {},
   "outputs": [
    {
     "data": {
      "application/vnd.jupyter.widget-view+json": {
       "model_id": "581e30b3e32945098225e6edea1ac63c",
       "version_major": 2,
       "version_minor": 0
      },
      "text/plain": [
       "interactive(children=(IntSlider(value=1, description='w1', max=98484), IntSlider(value=200, description='w2', …"
      ]
     },
     "metadata": {},
     "output_type": "display_data"
    }
   ],
   "source": [
    "eeg_data_1 = eeg_data['EEG_1']\n",
    "eeg_index = np.arange(0,len(eeg_data_1) + 1)\n",
    "\n",
    "# This is the function that will run whenever we move one of our sliders:\n",
    "def update(w1=0,w2=0,h=0):\n",
    "    \n",
    "    # We want to update our x and y values for our plot first...\n",
    "    x = eeg_index[w1:w2]\n",
    "    y = eeg_data_1[w1:w2]\n",
    "    \n",
    "    # Now, let's update the minimum and maximum values for the portion of the plot we're viewing now...\n",
    "    max_val = np.max(y)\n",
    "    max_val_x = np.argmax(y)\n",
    "    min_val = np.min(y)\n",
    "    min_val_x = np.argmin(y)\n",
    "    \n",
    "    # Here's our plot code...\n",
    "    plt.figure()\n",
    "    plt.grid()\n",
    "    \n",
    "    plt.xlim([w1,w2])\n",
    "    plt.ylim([-1*h,h])\n",
    "    \n",
    "    plt.plot(x,y,'b')\n",
    "    plt.plot(min_val_x,min_val,'Xk')\n",
    "    plt.plot(max_val_x,max_val,'Xk')\n",
    "    \n",
    "    plt.show()\n",
    "    \n",
    "    # Now, let's print out what the minimum and maximum points are:\n",
    "    print('Minimum point is (%.2f,%.2f)' %(min_val_x,min_val))\n",
    "    print('Maximum point is (%.2f,%.2f)' %(max_val_x,max_val))\n",
    "\n",
    "# Now that we have our plot set up, we can set up our sliders so that we can view \n",
    "# different parts of our EEG data:\n",
    "interact(update, w1= widgets.IntSlider(value=1, min=0, max=len(eeg_data_1), step=1) , \n",
    "                 w2 = widgets.IntSlider(value=1, min=200, max=len(eeg_data_1), step=1) ,\n",
    "                 h= widgets.IntSlider(value=1, min=1000, max=10000, step=1) );\n",
    "\n",
    "## INSTRUCTIONS FOR THE INTERACTIVE PLOT:\n",
    "## Move the 'w1' slider to adjust the starting x value limit for the plot\n",
    "## Move the 'w2' slider to adjust the final x value limit for the plot\n",
    "## Move the 'h' slider to adjust the y axis limits\n",
    "\n",
    "## Make sure the value of 'w2' is GREATER than 'w1'\n",
    "## You should see two black 'X's that mark the minimum and maximum points on the graph--\n",
    "##    if you don't see these points, try adjusting the 'h' slider"
   ]
  },
  {
   "cell_type": "code",
   "execution_count": 3,
   "metadata": {},
   "outputs": [
    {
     "data": {
      "application/vnd.jupyter.widget-view+json": {
       "model_id": "c22edbb17e2c44b1a3433c3442873677",
       "version_major": 2,
       "version_minor": 0
      },
      "text/plain": [
       "interactive(children=(IntSlider(value=1, description='w1', max=98484), IntSlider(value=200, description='w2', …"
      ]
     },
     "metadata": {},
     "output_type": "display_data"
    }
   ],
   "source": [
    "eeg_data_2 = eeg_data['EEG_2']\n",
    "\n",
    "# This is the function that will run whenever we move one of our sliders:\n",
    "def update(w1=0,w2=0,h=0):\n",
    "    \n",
    "    # We want to update our x and y values for our plot first...\n",
    "    x = eeg_index[w1:w2]\n",
    "    y = eeg_data_2[w1:w2]\n",
    "    \n",
    "    # Now, let's update the minimum and maximum values for the portion of the plot we're viewing now...\n",
    "    max_val = np.max(y)\n",
    "    max_val_x = np.argmax(y)\n",
    "    min_val = np.min(y)\n",
    "    min_val_x = np.argmin(y)\n",
    "    \n",
    "    # Here's our plot code...\n",
    "    plt.figure()\n",
    "    plt.grid()\n",
    "    \n",
    "    plt.xlim([w1,w2])\n",
    "    plt.ylim([-1*h,h])\n",
    "    \n",
    "    plt.plot(x,y,'r')\n",
    "    plt.plot(min_val_x,min_val,'Xk')\n",
    "    plt.plot(max_val_x,max_val,'Xk')\n",
    "    \n",
    "    plt.show()\n",
    "    \n",
    "    # Now, let's print out what the minimum and maximum points are:\n",
    "    print('Minimum point is (%.2f,%.2f)' %(min_val_x,min_val))\n",
    "    print('Maximum point is (%.2f,%.2f)' %(max_val_x,max_val))\n",
    "\n",
    "# Now that we have our plot set up, we can set up our sliders so that we can view \n",
    "# different parts of our EEG data:\n",
    "interact(update, w1= widgets.IntSlider(value=1, min=0, max=len(eeg_data_2), step=1) , \n",
    "                 w2 = widgets.IntSlider(value=1, min=200, max=len(eeg_data_2), step=1) ,\n",
    "                 h= widgets.IntSlider(value=1, min=1000, max=10000, step=1) );\n",
    "\n",
    "## INSTRUCTIONS FOR THE INTERACTIVE PLOT:\n",
    "## Move the 'w1' slider to adjust the starting x value limit for the plot\n",
    "## Move the 'w2' slider to adjust the final x value limit for the plot\n",
    "## Move the 'h' slider to adjust the y axis limits\n",
    "\n",
    "## Make sure the value of 'w2' is GREATER than 'w1'\n",
    "## You should see two black 'X's that mark the minimum and maximum points on the graph--\n",
    "##    if you don't see these points, try adjusting the 'h' slider"
   ]
  },
  {
   "cell_type": "code",
   "execution_count": 4,
   "metadata": {},
   "outputs": [
    {
     "data": {
      "application/vnd.jupyter.widget-view+json": {
       "model_id": "cb7bd6e6d820440cb98fdaf5e591cd52",
       "version_major": 2,
       "version_minor": 0
      },
      "text/plain": [
       "interactive(children=(IntSlider(value=1, description='w1', max=98484), IntSlider(value=200, description='w2', …"
      ]
     },
     "metadata": {},
     "output_type": "display_data"
    }
   ],
   "source": [
    "eeg_data_3 = eeg_data['EEG_3']\n",
    "\n",
    "def update(w1=0,w2=0,h=0):\n",
    "    \n",
    "    # We want to update our x and y values for our plot first...\n",
    "    x = eeg_index[w1:w2]\n",
    "    y = eeg_data_3[w1:w2]\n",
    "    \n",
    "    # Now, let's update the minimum and maximum values for the portion of the plot we're viewing now...\n",
    "    max_val = np.max(y)\n",
    "    max_val_x = np.argmax(y)\n",
    "    min_val = np.min(y)\n",
    "    min_val_x = np.argmin(y)\n",
    "    \n",
    "    # Here's our plot code...\n",
    "    plt.figure()\n",
    "    plt.grid()\n",
    "    \n",
    "    plt.xlim([w1,w2])\n",
    "    plt.ylim([-1*h,h])\n",
    "    \n",
    "    plt.plot(x,y,'g')\n",
    "    plt.plot(min_val_x,min_val,'Xk')\n",
    "    plt.plot(max_val_x,max_val,'Xk')\n",
    "    \n",
    "    plt.show()\n",
    "    \n",
    "    # Now, let's print out what the minimum and maximum points are:\n",
    "    print('Minimum point is (%.2f,%.2f)' %(min_val_x,min_val))\n",
    "    print('Maximum point is (%.2f,%.2f)' %(max_val_x,max_val))\n",
    "\n",
    "# Now that we have our plot set up, we can set up our sliders so that we can view \n",
    "# different parts of our EEG data:\n",
    "interact(update, w1= widgets.IntSlider(value=1, min=0, max=len(eeg_data_3), step=1) , \n",
    "                 w2 = widgets.IntSlider(value=1, min=200, max=len(eeg_data_3), step=1) ,\n",
    "                 h= widgets.IntSlider(value=1, min=1000, max=10000, step=1) );\n",
    "\n",
    "## INSTRUCTIONS FOR THE INTERACTIVE PLOT:\n",
    "## Move the 'w1' slider to adjust the starting x value limit for the plot\n",
    "## Move the 'w2' slider to adjust the final x value limit for the plot\n",
    "## Move the 'h' slider to adjust the y axis limits\n",
    "\n",
    "## Make sure the value of 'w2' is GREATER than 'w1'\n",
    "## You should see two black 'X's that mark the minimum and maximum points on the graph--\n",
    "##    if you don't see these points, try adjusting the 'h' slider"
   ]
  },
  {
   "cell_type": "code",
   "execution_count": 5,
   "metadata": {},
   "outputs": [
    {
     "data": {
      "application/vnd.jupyter.widget-view+json": {
       "model_id": "514d491a953c4fb29f3b974722bb7bb6",
       "version_major": 2,
       "version_minor": 0
      },
      "text/plain": [
       "interactive(children=(IntSlider(value=1, description='w1', max=98484), IntSlider(value=200, description='w2', …"
      ]
     },
     "metadata": {},
     "output_type": "display_data"
    }
   ],
   "source": [
    "eeg_data_4 = eeg_data['EEG_4']\n",
    "\n",
    "def update(w1=0,w2=0,h=0):\n",
    "    \n",
    "    # We want to update our x and y values for our plot first...\n",
    "    x = eeg_index[w1:w2]\n",
    "    y = eeg_data_4[w1:w2]\n",
    "    \n",
    "    # Now, let's update the minimum and maximum values for the portion of the plot we're viewing now...\n",
    "    max_val = np.max(y)\n",
    "    max_val_x = np.argmax(y)\n",
    "    min_val = np.min(y)\n",
    "    min_val_x = np.argmin(y)\n",
    "    \n",
    "    # Here's our plot code...\n",
    "    plt.figure()\n",
    "    plt.grid()\n",
    "    \n",
    "    plt.xlim([w1,w2])\n",
    "    plt.ylim([-1*h,h])\n",
    "    \n",
    "    plt.plot(x,y,'m')\n",
    "    plt.plot(min_val_x,min_val,'Xk')\n",
    "    plt.plot(max_val_x,max_val,'Xk')\n",
    "    \n",
    "    plt.show()\n",
    "    \n",
    "    # Now, let's print out what the minimum and maximum points are:\n",
    "    print('Minimum point is (%.2f,%.2f)' %(min_val_x,min_val))\n",
    "    print('Maximum point is (%.2f,%.2f)' %(max_val_x,max_val))\n",
    "\n",
    "# Now that we have our plot set up, we can set up our sliders so that we can view \n",
    "# different parts of our EEG data:\n",
    "interact(update, w1= widgets.IntSlider(value=1, min=0, max=len(eeg_data_4), step=1) , \n",
    "                 w2 = widgets.IntSlider(value=1, min=200, max=len(eeg_data_4), step=1) ,\n",
    "                 h= widgets.IntSlider(value=1, min=1000, max=10000, step=1) );\n",
    "\n",
    "## INSTRUCTIONS FOR THE INTERACTIVE PLOT:\n",
    "## Move the 'w1' slider to adjust the starting x value limit for the plot\n",
    "## Move the 'w2' slider to adjust the final x value limit for the plot\n",
    "## Move the 'h' slider to adjust the y axis limits\n",
    "\n",
    "## Make sure the value of 'w2' is GREATER than 'w1'\n",
    "## You should see two black 'X's that mark the minimum and maximum points on the graph--\n",
    "##    if you don't see these points, try adjusting the 'h' slider"
   ]
  },
  {
   "cell_type": "code",
   "execution_count": null,
   "metadata": {},
   "outputs": [],
   "source": []
  }
 ],
 "metadata": {
  "kernelspec": {
   "display_name": "Python 3",
   "language": "python",
   "name": "python3"
  },
  "language_info": {
   "codemirror_mode": {
    "name": "ipython",
    "version": 3
   },
   "file_extension": ".py",
   "mimetype": "text/x-python",
   "name": "python",
   "nbconvert_exporter": "python",
   "pygments_lexer": "ipython3",
   "version": "3.6.7"
  }
 },
 "nbformat": 4,
 "nbformat_minor": 2
}
