{
 "cells": [
  {
   "cell_type": "markdown",
   "metadata": {},
   "source": [
    "![alt_text](http://www.gtec.at/var/plain_site/storage/images/media/images/g.nautilus-g.kids-400x240/351775-1-eng-GB/g.Nautilus-g.Kids-400x240.jpg 'Child having an EEG test done')\n",
    "\n",
    "# Welcome to the EEG Tutorial!\n",
    "#### By the end of this tutorial, you will be able to...\n",
    "\n",
    "_1. Understand what an EEG is._\n",
    "\n",
    "_2. Recognize the five different brain waves and when they occur._\n",
    "\n",
    "_3. Examine your own brain data!_\n",
    "\n",
    "---"
   ]
  },
  {
   "cell_type": "code",
   "execution_count": 1,
   "metadata": {},
   "outputs": [
    {
     "data": {
      "text/html": [
       "<script>\n",
       "code_show=true; \n",
       "function code_toggle() {\n",
       " if (code_show){\n",
       " $('div.input').hide();\n",
       " } else {\n",
       " $('div.input').show();\n",
       " }\n",
       " code_show = !code_show\n",
       "} \n",
       "$( document ).ready(code_toggle);\n",
       "</script>\n",
       "<form action=\"javascript:code_toggle()\"><input type=\"submit\" value=\"Click here to toggle the code.\"></form>"
      ],
      "text/plain": [
       "<IPython.core.display.HTML object>"
      ]
     },
     "execution_count": 1,
     "metadata": {},
     "output_type": "execute_result"
    }
   ],
   "source": [
    "from IPython.display import HTML\n",
    "\n",
    "HTML('''<script>\n",
    "code_show=true; \n",
    "function code_toggle() {\n",
    " if (code_show){\n",
    " $('div.input').hide();\n",
    " } else {\n",
    " $('div.input').show();\n",
    " }\n",
    " code_show = !code_show\n",
    "} \n",
    "$( document ).ready(code_toggle);\n",
    "</script>\n",
    "<form action=\"javascript:code_toggle()\"><input type=\"submit\" value=\"Click here to toggle the code.\"></form>''')"
   ]
  },
  {
   "cell_type": "code",
   "execution_count": 2,
   "metadata": {},
   "outputs": [
    {
     "data": {
      "application/javascript": [
       "IPython.notebook.execute_cells_below()"
      ],
      "text/plain": [
       "<IPython.core.display.Javascript object>"
      ]
     },
     "execution_count": 2,
     "metadata": {},
     "output_type": "execute_result"
    }
   ],
   "source": [
    "from IPython.display import Javascript\n",
    "Javascript('IPython.notebook.execute_cells_below()')"
   ]
  },
  {
   "cell_type": "markdown",
   "metadata": {},
   "source": [
    "## So, what is an EEG and why should we be learning about it?\n",
    "\n",
    "EEG stands for __electroencephalogram__, which is a test that records the electrical signals produced by the brain. Our brain cells communicate using electrical signals, and we can measure some of these signals using special electrodes (like the ones the children are wearing in the image above). A signal may be classified by its __frequency__ (number of peaks measured per second) and __amplitude__ (the strength of each peak).\n",
    "\n",
    "![alt_text](https://i1.wp.com/www.mindovermenieres.com/wp-content/uploads/2015/12/brainwave-chart-01.png?w=600 \"Types of EEG Waves\")\n",
    "\n",
    "---"
   ]
  },
  {
   "cell_type": "markdown",
   "metadata": {},
   "source": [
    "## That's cool, but what do these waves _mean_? \n",
    "\n",
    "Each of the five waves listed above represent a different brain __state__. For example, the __delta__ waves are observed when a person is in __deep sleep__. The short video below will explain each wave and the brain state associated with it:"
   ]
  },
  {
   "cell_type": "code",
   "execution_count": 3,
   "metadata": {},
   "outputs": [
    {
     "data": {
      "image/jpeg": "[encoded data removed]",
      "text/html": [
       "\n",
       "        <iframe\n",
       "            width=\"400\"\n",
       "            height=\"300\"\n",
       "            src=\"https://www.youtube.com/embed/8CejGESrRkc\"\n",
       "            frameborder=\"0\"\n",
       "            allowfullscreen\n",
       "        ></iframe>\n",
       "        "
      ],
      "text/plain": [
       "<IPython.lib.display.YouTubeVideo at 0x7f114c226898>"
      ]
     },
     "execution_count": 3,
     "metadata": {},
     "output_type": "execute_result"
    }
   ],
   "source": [
    "from IPython.display import YouTubeVideo\n",
    "# a short video about brain waves\n",
    "# Video credit: Brainfacts.org.\n",
    "YouTubeVideo('8CejGESrRkc')"
   ]
  },
  {
   "cell_type": "markdown",
   "metadata": {},
   "source": [
    "---\n",
    "\n",
    "## Why are EEG tests important? What's the point?\n",
    "\n",
    "An EEG test is capable of detecting brain disorders such as __seizures__, __dizziness__, __epilepsy__, and even __brain tumors__. Many disorders are detected by noting an abnormal spike/pattern in the brain waves as they're being measured. The following image shows normal brain wave activity followed by brain wave activity during a seizure:\n",
    "\n",
    "![alt_text](http://rrapid.leeds.ac.uk/ebook/assets/images/illustrations/EEG.png 'Seizure EEG')"
   ]
  },
  {
   "cell_type": "markdown",
   "metadata": {},
   "source": [
    "---\n",
    "\n",
    "## Awesome, when can I look at _my_ brain waves?\n",
    "\n",
    "Right now! We probably won't see any __delta__ or __theta__ waves (unless you were very committed and _fell asleep_ while taking measurements), but if you closed your eyes and relaxed at any point, you may catch an __alpha__ wave somewhere in your data! Or, if you were _really_ deep in thought or focused on a problem, you could even find a __gamma__ wave!\n",
    "\n",
    "Below you will see a prompt that will ask you to enter the name of your EEG file. Be sure to enter the file name _without_ the '.txt' and press [ENTER]. \n",
    "\n",
    "After you enter your file name, four plots (one for each of the electrodes you placed on your head) will appear below. Each plot has __three__ sliders:\n",
    "    (1) __w1__ represents the minimum x value for the plot\n",
    "    (2) __w2__ represents the maximum x value for the plot\n",
    "    (3) __h__ represents the y range for the plot (-h, h)\n",
    "    \n",
    "    NOTE: w2 must be larger than w1 for the plot to work!\n",
    "    \n",
    "Each plot will automatically update as you move any of the sliders. The minimum and maximum points on each wave have been marked for you and will update as well.\n",
    "\n",
    "If you're feeling extra adventurous, click the button at the top of this notebook that says 'Click here to toggle the code.' to show all the code used to create this notebook. You can modify this code if you wish to add any features to the plots, change the colors, etc.\n",
    "\n",
    "If you wish to __start over__ with a new EEG file, simply click the 'Reset' button.\n",
    "\n",
    "#### Good luck and enjoy the _waves_!\n",
    "\n",
    "---\n"
   ]
  },
  {
   "cell_type": "code",
   "execution_count": 33,
   "metadata": {},
   "outputs": [
    {
     "data": {
      "application/javascript": [
       "IPython.notebook.execute_cells_below()"
      ],
      "text/plain": [
       "<IPython.core.display.Javascript object>"
      ]
     },
     "metadata": {},
     "output_type": "display_data"
    },
    {
     "data": {
      "application/vnd.jupyter.widget-view+json": {
       "model_id": "9b00fc40a921421ca266f43528b5a5bd",
       "version_major": 2,
       "version_minor": 0
      },
      "text/plain": [
       "Button(description='Reset', style=ButtonStyle())"
      ]
     },
     "metadata": {},
     "output_type": "display_data"
    }
   ],
   "source": [
    "from IPython.display import Javascript, display\n",
    "from ipywidgets import widgets\n",
    "\n",
    "def run_all(ev):\n",
    "    display(Javascript('IPython.notebook.execute_cells_below()'))\n",
    "\n",
    "button = widgets.Button(description=\"Reset\")\n",
    "button.on_click(run_all)\n",
    "display(button)"
   ]
  },
  {
   "cell_type": "code",
   "execution_count": null,
   "metadata": {},
   "outputs": [],
   "source": [
    "file_name = str(input(\"Please enter the name of your EEG data file without the '.txt' (ex. EEG_data) and press [ENTER]: \"))\n",
    "print('The file name you entered is: %s' %file_name)"
   ]
  },
  {
   "cell_type": "markdown",
   "metadata": {},
   "source": [
    "---"
   ]
  },
  {
   "cell_type": "markdown",
   "metadata": {},
   "source": [
    "## --- Left Frontal Lobe ---"
   ]
  },
  {
   "cell_type": "code",
   "execution_count": null,
   "metadata": {},
   "outputs": [],
   "source": [
    "# Let's begin by importing our libraries:\n",
    "import pandas as pd\n",
    "import numpy as np\n",
    "import matplotlib.pyplot as plt\n",
    "from ipywidgets import *\n",
    "from shutil import copyfile \n",
    "import os\n",
    "import warnings\n",
    "warnings.filterwarnings(\"ignore\")\n",
    "\n",
    "# ...And reading in our data:\n",
    "# We want to skip the first 6 rows since they contain comments\n",
    "# and we want to give our data some column labels:\n",
    "headers = ['Index','EEG_1','EEG_2','EEG_3','EEG_4','ACC_1','ACC_2','ACC_3','Timestamp_1','Timestamp_2']\n",
    "\n",
    "# Make a copy of the user's text data and make it into a .csv file for them\n",
    "copyfile(file_name + '.txt', file_name + '_copy.txt')\n",
    "\n",
    "os.rename(file_name + '_copy.txt', file_name + '.csv')\n",
    "\n",
    "eeg_data = pd.read_csv(file_name + '.csv',skiprows=[0,1,2,3,4,5],names=headers)\n",
    "\n",
    "# Uncomment the line below to print a preview of the data\n",
    "#print(eeg_data)"
   ]
  },
  {
   "cell_type": "code",
   "execution_count": null,
   "metadata": {},
   "outputs": [],
   "source": [
    "# Left Frontal Lobe Data ---\n",
    "\n",
    "eeg_data_1 = eeg_data['EEG_1']\n",
    "eeg_index = np.arange(0,len(eeg_data_1) + 1)\n",
    "\n",
    "# This is the function that will run whenever we move one of our sliders:\n",
    "def update(w1=0,w2=0,h=0):\n",
    "    \n",
    "    # We want to update our x and y values for our plot first...\n",
    "    x = eeg_index[w1:w2]\n",
    "    y = eeg_data_1[w1:w2]\n",
    "    \n",
    "    # Now, let's update the minimum and maximum values for the portion of the plot we're viewing now...\n",
    "    max_val = np.max(y)\n",
    "    max_val_x = np.argmax(y)\n",
    "    min_val = np.min(y)\n",
    "    min_val_x = np.argmin(y)\n",
    "    \n",
    "    # Here's our plot code...\n",
    "    plt.figure()\n",
    "    plt.grid()\n",
    "    \n",
    "    plt.xlim([w1,w2])\n",
    "    plt.ylim([-1*h,h])\n",
    "    \n",
    "    plt.xlabel('Sample #')\n",
    "    plt.ylabel('Voltage (V) [uV]')\n",
    "    plt.title('Left Frontal Lobe')\n",
    "    \n",
    "    plt.plot(x,y,'b')\n",
    "    plt.plot(min_val_x,min_val,'Xk')\n",
    "    plt.plot(max_val_x,max_val,'Xk')\n",
    "    \n",
    "    plt.show()\n",
    "    \n",
    "    # Now, let's print out what the minimum and maximum points are:\n",
    "    print('Minimum point is (%.2f,%.2f)' %(min_val_x,min_val))\n",
    "    print('Maximum point is (%.2f,%.2f)' %(max_val_x,max_val))\n",
    "\n",
    "# Now that we have our plot set up, we can set up our sliders so that we can view \n",
    "# different parts of our EEG data:\n",
    "interact(update, w1 = widgets.IntSlider(value=1, min=0, max=len(eeg_data_1), step=1) , \n",
    "                 w2 = widgets.IntSlider(value=1, min=200, max=len(eeg_data_1), step=1) ,\n",
    "                 h = widgets.IntSlider(value=1, min=1000, max=10000, step=1) )\n",
    "\n",
    "## INSTRUCTIONS FOR THE INTERACTIVE PLOT:\n",
    "## Move the 'w1' slider to adjust the starting x value limit for the plot\n",
    "## Move the 'w2' slider to adjust the final x value limit for the plot\n",
    "## Move the 'h' slider to adjust the y axis limits\n",
    "\n",
    "## Make sure the value of 'w2' is GREATER than 'w1'\n",
    "## You should see two black 'X's that mark the minimum and maximum points on the graph--\n",
    "##    if you don't see these points, try adjusting the 'h' slider"
   ]
  },
  {
   "cell_type": "markdown",
   "metadata": {},
   "source": [
    "---"
   ]
  },
  {
   "cell_type": "markdown",
   "metadata": {},
   "source": [
    "## --- Right Frontal Lobe ---"
   ]
  },
  {
   "cell_type": "code",
   "execution_count": null,
   "metadata": {},
   "outputs": [],
   "source": [
    "# Right Frontal Lobe Data ---\n",
    "\n",
    "eeg_data_2 = eeg_data['EEG_2']\n",
    "\n",
    "# This is the function that will run whenever we move one of our sliders:\n",
    "def update(w1=0,w2=0,h=0):\n",
    "    \n",
    "    # We want to update our x and y values for our plot first...\n",
    "    x = eeg_index[w1:w2]\n",
    "    y = eeg_data_2[w1:w2]\n",
    "    \n",
    "    # Now, let's update the minimum and maximum values for the portion of the plot we're viewing now...\n",
    "    max_val = np.max(y)\n",
    "    max_val_x = np.argmax(y)\n",
    "    min_val = np.min(y)\n",
    "    min_val_x = np.argmin(y)\n",
    "    \n",
    "    # Here's our plot code...\n",
    "    plt.figure()\n",
    "    plt.grid()\n",
    "    \n",
    "    plt.xlim([w1,w2])\n",
    "    plt.ylim([-1*h,h])\n",
    "    \n",
    "    plt.xlabel('Sample #')\n",
    "    plt.ylabel('Voltage (V) [uV]')\n",
    "    plt.title('Right Frontal Lobe')\n",
    "    \n",
    "    plt.plot(x,y,'r')\n",
    "    plt.plot(min_val_x,min_val,'Xk')\n",
    "    plt.plot(max_val_x,max_val,'Xk')\n",
    "    \n",
    "    plt.show()\n",
    "    \n",
    "    # Now, let's print out what the minimum and maximum points are:\n",
    "    print('Minimum point is (%.2f,%.2f)' %(min_val_x,min_val))\n",
    "    print('Maximum point is (%.2f,%.2f)' %(max_val_x,max_val))\n",
    "\n",
    "# Now that we have our plot set up, we can set up our sliders so that we can view \n",
    "# different parts of our EEG data:\n",
    "interact(update, w1= widgets.IntSlider(value=1, min=0, max=len(eeg_data_2), step=1) , \n",
    "                 w2 = widgets.IntSlider(value=1, min=200, max=len(eeg_data_2), step=1) ,\n",
    "                 h= widgets.IntSlider(value=1, min=1000, max=10000, step=1) );\n",
    "\n",
    "## INSTRUCTIONS FOR THE INTERACTIVE PLOT:\n",
    "## Move the 'w1' slider to adjust the starting x value limit for the plot\n",
    "## Move the 'w2' slider to adjust the final x value limit for the plot\n",
    "## Move the 'h' slider to adjust the y axis limits\n",
    "\n",
    "## Make sure the value of 'w2' is GREATER than 'w1'\n",
    "## You should see two black 'X's that mark the minimum and maximum points on the graph--\n",
    "##    if you don't see these points, try adjusting the 'h' slider"
   ]
  },
  {
   "cell_type": "markdown",
   "metadata": {},
   "source": [
    "---"
   ]
  },
  {
   "cell_type": "markdown",
   "metadata": {},
   "source": [
    "## --- Left Occipital Lobe ---"
   ]
  },
  {
   "cell_type": "code",
   "execution_count": null,
   "metadata": {},
   "outputs": [],
   "source": [
    "# Left Occipital Lobe Data ---\n",
    "\n",
    "eeg_data_3 = eeg_data['EEG_3']\n",
    "\n",
    "def update(w1=0,w2=0,h=0):\n",
    "    \n",
    "    # We want to update our x and y values for our plot first...\n",
    "    x = eeg_index[w1:w2]\n",
    "    y = eeg_data_3[w1:w2]\n",
    "    \n",
    "    # Now, let's update the minimum and maximum values for the portion of the plot we're viewing now...\n",
    "    max_val = np.max(y)\n",
    "    max_val_x = np.argmax(y)\n",
    "    min_val = np.min(y)\n",
    "    min_val_x = np.argmin(y)\n",
    "    \n",
    "    # Here's our plot code...\n",
    "    plt.figure()\n",
    "    plt.grid()\n",
    "    \n",
    "    plt.xlim([w1,w2])\n",
    "    plt.ylim([-1*h,h])\n",
    "    \n",
    "    plt.xlabel('Sample #')\n",
    "    plt.ylabel('Voltage (V) [uV]')\n",
    "    plt.title('Left Occipital Lobe')\n",
    "    \n",
    "    plt.plot(x,y,'g')\n",
    "    plt.plot(min_val_x,min_val,'Xk')\n",
    "    plt.plot(max_val_x,max_val,'Xk')\n",
    "    \n",
    "    plt.show()\n",
    "    \n",
    "    # Now, let's print out what the minimum and maximum points are:\n",
    "    print('Minimum point is (%.2f,%.2f)' %(min_val_x,min_val))\n",
    "    print('Maximum point is (%.2f,%.2f)' %(max_val_x,max_val))\n",
    "\n",
    "# Now that we have our plot set up, we can set up our sliders so that we can view \n",
    "# different parts of our EEG data:\n",
    "interact(update, w1= widgets.IntSlider(value=1, min=0, max=len(eeg_data_3), step=1) , \n",
    "                 w2 = widgets.IntSlider(value=1, min=200, max=len(eeg_data_3), step=1) ,\n",
    "                 h= widgets.IntSlider(value=1, min=1000, max=10000, step=1) );\n",
    "\n",
    "## INSTRUCTIONS FOR THE INTERACTIVE PLOT:\n",
    "## Move the 'w1' slider to adjust the starting x value limit for the plot\n",
    "## Move the 'w2' slider to adjust the final x value limit for the plot\n",
    "## Move the 'h' slider to adjust the y axis limits\n",
    "\n",
    "## Make sure the value of 'w2' is GREATER than 'w1'\n",
    "## You should see two black 'X's that mark the minimum and maximum points on the graph--\n",
    "##    if you don't see these points, try adjusting the 'h' slider"
   ]
  },
  {
   "cell_type": "markdown",
   "metadata": {},
   "source": [
    "---"
   ]
  },
  {
   "cell_type": "markdown",
   "metadata": {},
   "source": [
    "## -- Right Occipital Lobe ---"
   ]
  },
  {
   "cell_type": "code",
   "execution_count": null,
   "metadata": {},
   "outputs": [],
   "source": [
    "# Right Occipital Lobe Data ---\n",
    "\n",
    "eeg_data_4 = eeg_data['EEG_4']\n",
    "\n",
    "def update(w1=0,w2=0,h=0):\n",
    "    \n",
    "    # We want to update our x and y values for our plot first...\n",
    "    x = eeg_index[w1:w2]\n",
    "    y = eeg_data_4[w1:w2]\n",
    "    \n",
    "    # Now, let's update the minimum and maximum values for the portion of the plot we're viewing now...\n",
    "    max_val = np.max(y)\n",
    "    max_val_x = np.argmax(y)\n",
    "    min_val = np.min(y)\n",
    "    min_val_x = np.argmin(y)\n",
    "    \n",
    "    # Here's our plot code...\n",
    "    plt.figure()\n",
    "    plt.grid()\n",
    "    \n",
    "    plt.xlim([w1,w2])\n",
    "    plt.ylim([-1*h,h])\n",
    "    \n",
    "    plt.xlabel('Sample #')\n",
    "    plt.ylabel('Voltage (V) [uV]')\n",
    "    plt.title('Right Occipital Lobe')\n",
    "    \n",
    "    plt.plot(x,y,'m')\n",
    "    plt.plot(min_val_x,min_val,'Xk')\n",
    "    plt.plot(max_val_x,max_val,'Xk')\n",
    "    \n",
    "    plt.show()\n",
    "    \n",
    "    # Now, let's print out what the minimum and maximum points are:\n",
    "    print('Minimum point is (%.2f,%.2f)' %(min_val_x,min_val))\n",
    "    print('Maximum point is (%.2f,%.2f)' %(max_val_x,max_val))\n",
    "\n",
    "# Now that we have our plot set up, we can set up our sliders so that we can view \n",
    "# different parts of our EEG data:\n",
    "interact(update, w1= widgets.IntSlider(value=1, min=0, max=len(eeg_data_4), step=1) , \n",
    "                 w2 = widgets.IntSlider(value=1, min=200, max=len(eeg_data_4), step=1) ,\n",
    "                 h= widgets.IntSlider(value=1, min=1000, max=10000, step=1) );\n",
    "\n",
    "## INSTRUCTIONS FOR THE INTERACTIVE PLOT:\n",
    "## Move the 'w1' slider to adjust the starting x value limit for the plot\n",
    "## Move the 'w2' slider to adjust the final x value limit for the plot\n",
    "## Move the 'h' slider to adjust the y axis limits\n",
    "\n",
    "## Make sure the value of 'w2' is GREATER than 'w1'\n",
    "## You should see two black 'X's that mark the minimum and maximum points on the graph--\n",
    "##    if you don't see these points, try adjusting the 'h' slider"
   ]
  },
  {
   "cell_type": "code",
   "execution_count": null,
   "metadata": {},
   "outputs": [],
   "source": []
  }
 ],
 "metadata": {
  "kernelspec": {
   "display_name": "Python 3",
   "language": "python",
   "name": "python3"
  },
  "language_info": {
   "codemirror_mode": {
    "name": "ipython",
    "version": 3
   },
   "file_extension": ".py",
   "mimetype": "text/x-python",
   "name": "python",
   "nbconvert_exporter": "python",
   "pygments_lexer": "ipython3",
   "version": "3.7.3"
  }
 },
 "nbformat": 4,
 "nbformat_minor": 2
}
