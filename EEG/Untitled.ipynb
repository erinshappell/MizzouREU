{
 "cells": [
  {
   "cell_type": "code",
   "execution_count": 2,
   "metadata": {},
   "outputs": [],
   "source": [
    "# Let's begin by importing our libraries:\n",
    "import pandas as pd\n",
    "import numpy as np\n",
    "import matplotlib.pyplot as plt\n",
    "from ipywidgets import *\n",
    "from shutil import copyfile\n",
    "import os\n",
    "import warnings\n",
    "warnings.filterwarnings(\"ignore\")\n",
    "\n",
    "# ...And reading in our data:\n",
    "# We want to skip the first 6 rows since they contain comments\n",
    "# and we want to give our data some column labels:\n",
    "\n",
    "file_name = 'Erin_EEG'\n",
    "headers = ['Index','EEG_1','EEG_2','EEG_3','EEG_4','ACC_1','ACC_2','ACC_3','Timestamp_1','Timestamp_2']\n",
    "\n",
    "# Make a copy of the user's text data and make it into a .csv file for them\n",
    "copyfile(file_name + '.txt', file_name + '_copy.txt')\n",
    "\n",
    "os.rename(file_name + '_copy.txt', file_name + '.csv')\n",
    "\n",
    "eeg_data = pd.read_csv(file_name + '.csv',skiprows=[0,1,2,3,4,5],names=headers)\n",
    "\n",
    "# Uncomment the line below to print a preview of the data\n",
    "#print(eeg_data)"
   ]
  },
  {
   "cell_type": "code",
   "execution_count": null,
   "metadata": {},
   "outputs": [],
   "source": []
  }
 ],
 "metadata": {
  "kernelspec": {
   "display_name": "Python 3",
   "language": "python",
   "name": "python3"
  },
  "language_info": {
   "codemirror_mode": {
    "name": "ipython",
    "version": 3
   },
   "file_extension": ".py",
   "mimetype": "text/x-python",
   "name": "python",
   "nbconvert_exporter": "python",
   "pygments_lexer": "ipython3",
   "version": "3.6.7"
  }
 },
 "nbformat": 4,
 "nbformat_minor": 2
}
