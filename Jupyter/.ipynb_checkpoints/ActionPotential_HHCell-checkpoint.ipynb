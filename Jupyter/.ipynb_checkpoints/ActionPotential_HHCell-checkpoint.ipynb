{
 "cells": [
  {
   "cell_type": "markdown",
   "metadata": {},
   "source": [
    "# Action Potential Tutorial\n",
    "\n",
    "##### Developed in the Neural Engineering Laboratory at the University of Missouri by Ben Latimer & Ziao Chen\n",
    "\n",
    "<img src=\"Neuron_1.jpg\">\n",
    "\n",
    "### In this tutorial, we'll explore the properties of the cell membrane and the mechanisms of the action potential. We'll introduce you how to simulate a cell in the NEURON + Python environment. If this is your first time coding, don't worry! Just click the \"Run\" button above to go through step-by-step. You don't need to change anything yet. \n",
    "\n",
    "### Before you start any project, you need to get the tools. In Python, we do this using the \"import\" statement in the cell below. Click \"Run\" to proceed."
   ]
  },
  {
   "cell_type": "code",
   "execution_count": 1,
   "metadata": {},
   "outputs": [
    {
     "data": {
      "text/plain": [
       "1.0"
      ]
     },
     "execution_count": 1,
     "metadata": {},
     "output_type": "execute_result"
    }
   ],
   "source": [
    "from neuron import h\n",
    "\n",
    "h.load_file('stdrun.hoc')"
   ]
  },
  {
   "cell_type": "markdown",
   "metadata": {},
   "source": [
    "## 1) <u>Create the cell and define its geometry\n",
    "\n",
    "### NEURON defines a cell as a cylinder. Remember, cells in NEURON are simplified. We will make a one-compartment cell which is just a cylinder with length and diameter.\n",
    "\n",
    "<img src=\"cylinder.png\">"
   ]
  },
  {
   "cell_type": "code",
   "execution_count": 2,
   "metadata": {},
   "outputs": [],
   "source": [
    "#Create the soma section and define the default parameters\n",
    "soma = h.Section(name='soma')\n",
    "soma.diam = 200 # micrometers\n",
    "soma.L = 100 # micrometers"
   ]
  },
  {
   "cell_type": "markdown",
   "metadata": {},
   "source": [
    "## 2) <u>Define the cell's biophysics\n",
    "\n",
    "### Insert the Hodgkin-Huxley channels and define the conductance. First let's make a passive cell by setting the conductances of the active channels (gNa,gK) to 0. "
   ]
  },
  {
   "cell_type": "code",
   "execution_count": null,
   "metadata": {},
   "outputs": [],
   "source": [
    "soma.cm = 1.4884e-4/6.2832e-4 # membrane capacitance uF/cm2\n",
    "\n",
    "soma.insert('hh')\n",
    "soma.gnabar_hh = 0 # Sodium channel\n",
    "soma.gkbar_hh = 0 # Potassium channel\n",
    "soma.gl_hh = 2.0e-5 # leak channel S/cm2\n",
    "soma.el_hh = -70 # reveral potential mV\n",
    "\n",
    "h.v_init= -60"
   ]
  },
  {
   "cell_type": "markdown",
   "metadata": {},
   "source": [
    "## 3) <u>Inject Current\n",
    "    \n",
    "### Neuroscientists call this experiment a \"current clamp\". We place an electrode into the cell and inject current."
   ]
  },
  {
   "cell_type": "code",
   "execution_count": null,
   "metadata": {},
   "outputs": [],
   "source": [
    "# Inject current in the middle of the soma\n",
    "stim = h.IClamp(soma(0.5))\n",
    "stim.delay = 100.0 # delay in ms\n",
    "stim.dur = 500.0 # duration in ms\n",
    "stim.amp = 1.0 # amplitude in nA"
   ]
  },
  {
   "cell_type": "markdown",
   "metadata": {},
   "source": [
    "## 4) <u>Define simulation parameters and run!"
   ]
  },
  {
   "cell_type": "code",
   "execution_count": null,
   "metadata": {},
   "outputs": [],
   "source": [
    "h.tstop = tstop = 800 # how long to run the simulation in ms\n",
    "h.dt = 0.025 # time step (resolution) of the simulation in ms\n",
    "\n",
    "# define two vectors for recording variables\n",
    "v0_vec = h.Vector()\n",
    "t_vec = h.Vector()\n",
    "\n",
    "# record the voltage (_ref_v) and time (_ref_t) into the vectors we just created\n",
    "v0_vec.record(soma(0.5)._ref_v)\n",
    "t_vec.record(h._ref_t)\n",
    "\n",
    "h.run()"
   ]
  },
  {
   "cell_type": "markdown",
   "metadata": {},
   "source": [
    "## 5) <u> Visualize the membrane potential\n",
    "    \n",
    "### The data isn't going to visualize itself! We use a package called matplotlib to draw the vectors so we can see them."
   ]
  },
  {
   "cell_type": "code",
   "execution_count": null,
   "metadata": {},
   "outputs": [],
   "source": [
    "# use inline plot\n",
    "%matplotlib inline\n",
    "# use interactive plot\n",
    "# %matplotlib qt5\n",
    "import matplotlib.pyplot as plt # We use this package for visualization\n",
    "\n",
    "plt.figure()\n",
    "plt.plot(t_vec, v0_vec,'b')\n",
    "plt.xlim(0, tstop)\n",
    "plt.xlabel('time (ms)')\n",
    "plt.ylabel('mV')\n",
    "\n",
    "plt.show()"
   ]
  },
  {
   "cell_type": "markdown",
   "metadata": {},
   "source": [
    "## 6) <u> Get some action potentials!\n",
    "    \n",
    "### We will make the conductances of the active channels nonzero so that we will see some action potentials."
   ]
  },
  {
   "cell_type": "code",
   "execution_count": null,
   "metadata": {},
   "outputs": [],
   "source": [
    "soma.gnabar_hh = 0.12 # Sodium channel S/cm2\n",
    "soma.gkbar_hh = 0.012 # Potassium channel S/cm2\n",
    "\n",
    "stim.delay = 100.0 # delay in ms\n",
    "stim.dur = 150.0 # duration in ms\n",
    "stim.amp = 0.03 # amplitude in nA\n",
    "\n",
    "h.tstop = tstop = 350\n",
    "\n",
    "# run the simulation!\n",
    "h.run()\n",
    "\n",
    "plt.figure(figsize=(10,5))\n",
    "plt.plot(t_vec, v0_vec,'b')\n",
    "plt.xlim(0, tstop)\n",
    "plt.xlabel('time (ms)')\n",
    "plt.ylabel('mV')\n",
    "\n",
    "plt.show()"
   ]
  },
  {
   "cell_type": "markdown",
   "metadata": {},
   "source": [
    "## 7) <u> Record the gating variables\n",
    "    \n",
    "### You should see some spikes in the plot above. If you don't, go back to the top of the notebook and run all the cells again. Neurons spike because of the voltage dependent proteins embedded in their membranes. Let's record those and then plot them just as we did for the membrane voltage."
   ]
  },
  {
   "cell_type": "code",
   "execution_count": null,
   "metadata": {},
   "outputs": [],
   "source": [
    "m_na = h.Vector()\n",
    "h_na = h.Vector()\n",
    "n_k = h.Vector()\n",
    "\n",
    "m_na.record(soma(0.5)._ref_m_hh)\n",
    "h_na.record(soma(0.5)._ref_h_hh)\n",
    "n_k.record(soma(0.5)._ref_n_hh)\n",
    "\n",
    "h.run()"
   ]
  },
  {
   "cell_type": "markdown",
   "metadata": {},
   "source": [
    "## 8) <u>Visualize membrane potential and gating variables together\n",
    "### This should look familiar. We're just going to plot all of the variables we just recorded at the same time so we can investigate how spikes occur."
   ]
  },
  {
   "cell_type": "code",
   "execution_count": null,
   "metadata": {},
   "outputs": [],
   "source": [
    "plt.figure(figsize=(10,10))\n",
    "plt.subplot(2,1,1)\n",
    "plt.plot(t_vec, v0_vec,'b')\n",
    "plt.xlim(0, tstop)\n",
    "plt.ylabel('mV')\n",
    "\n",
    "plt.subplot(2,1,2)\n",
    "plt.plot(t_vec, m_na,'r')\n",
    "plt.plot(t_vec, h_na,'b')\n",
    "plt.plot(t_vec, n_k, 'g')\n",
    "plt.xlim(0, tstop)\n",
    "plt.xlabel('time (ms)')\n",
    "plt.ylabel('Probability')\n",
    "plt.legend(['m','h','n'])\n",
    "\n",
    "plt.show()"
   ]
  },
  {
   "cell_type": "markdown",
   "metadata": {},
   "source": [
    "### You did it! Now you understand how a neuron is implemented in code. Time for the hard part... understanding the science and math behind those spikes. You can move on to the next section and change variables (such as the conductances of the Na and K channels) using the interactive controls to see the effects.\n",
    "\n",
    "## 9) <u> Interact with the model\n",
    "\n",
    "##### So far, we've built the cell and simulated it with one set of parameters. But what if we want to change the parameters to see the effect on the output? In this part of the tutorial, we'll set the model up and then use sliders to interact with the parameters. Don't worry about all the code that's coming up, it's just a repeat of what we've already done."
   ]
  },
  {
   "cell_type": "code",
   "execution_count": null,
   "metadata": {},
   "outputs": [],
   "source": [
    "from neuron import h\n",
    "import ipywidgets as widgets\n",
    "from ipywidgets import HBox,VBox,Label,Layout\n",
    "from IPython.display import display\n",
    "import matplotlib.pyplot as plt\n",
    "%matplotlib inline\n",
    "\n",
    "h.load_file('stdrun.hoc')\n",
    "\n",
    "soma = h.Section(name='soma')\n",
    "soma.L = 100 # um\n",
    "soma.insert('hh')\n",
    "stim = h.IClamp(soma(0.5))\n",
    "\n",
    "v0_vec = h.Vector()\n",
    "t_vec = h.Vector()\n",
    "m_na = h.Vector()\n",
    "h_na = h.Vector()\n",
    "n_k = h.Vector()\n",
    "m_na.record(soma(0.5)._ref_m_hh)\n",
    "h_na.record(soma(0.5)._ref_h_hh)\n",
    "n_k.record(soma(0.5)._ref_n_hh)\n",
    "v0_vec.record(soma(0.5)._ref_v)\n",
    "t_vec.record(h._ref_t)\n",
    "\n",
    "def activemodel(diam,cm,el,gl,gna,gk,tstop,dur,amp):\n",
    "    soma.diam = diam\n",
    "    soma.cm = cm*1.4884e-4/6.2832e-4\n",
    "    soma.gnabar_hh = gna*1e-3\n",
    "    soma.gkbar_hh = gk*1e-3\n",
    "    soma.gl_hh = gl*1e-6\n",
    "    soma.el_hh = el\n",
    "\n",
    "    stim.delay = dur[0]\n",
    "    stim.dur = dur[1]-dur[0]\n",
    "    stim.amp = amp\n",
    "    \n",
    "    h.tstop = tstop\n",
    "    h.v_init = el\n",
    "    h.run()\n",
    "    \n",
    "    plt.figure(figsize=(12,10))\n",
    "    plt.subplot(2,1,1)\n",
    "    plt.plot(t_vec, v0_vec,'b')\n",
    "    plt.xlim(0, tstop)\n",
    "    plt.ylabel('mV')\n",
    "    plt.subplot(2,1,2)\n",
    "    plt.plot(t_vec, m_na,'r')\n",
    "    plt.plot(t_vec, h_na,'b')\n",
    "    plt.plot(t_vec, n_k, 'g')\n",
    "    plt.xlim(0, tstop)\n",
    "    plt.xlabel('time (ms)')\n",
    "    plt.ylabel('Probability')\n",
    "    plt.legend(['m','h','n'])\n",
    "    plt.show()"
   ]
  },
  {
   "cell_type": "markdown",
   "metadata": {},
   "source": [
    "### Interactive tool for changing the parameters. Re-run the cell below to reset default parameters."
   ]
  },
  {
   "cell_type": "code",
   "execution_count": null,
   "metadata": {},
   "outputs": [],
   "source": [
    "# default settings\n",
    "diam = 200\n",
    "cm = 1\n",
    "el = -70\n",
    "gl = 30\n",
    "gna = 120\n",
    "gk = 12\n",
    "tstop = 500\n",
    "dur = [100,400]\n",
    "amp = 0.1\n",
    "\n",
    "w_pass = widgets.ToggleButton(value=False,icon='check',button_style='info')\n",
    "w_el = widgets.FloatSlider(value=el,min=-80,max=-60,step=.2,continuous_update=False,readout_format='.1f')\n",
    "w_gl = widgets.FloatSlider(value=gl,min=5,max=50,step=.2,continuous_update=False,readout_format='.1f')\n",
    "w_gna = widgets.FloatSlider(value=gna,min=0,max=200,step=.5,continuous_update=False,readout_format='.1f')\n",
    "w_gk = widgets.FloatSlider(value=gk,min=0,max=30,step=.1,continuous_update=False,readout_format='.1f')\n",
    "\n",
    "w_tstop = widgets.FloatText(value=500)\n",
    "w_dur = widgets.FloatRangeSlider(value=[100,400],min=0,max=500,step=5,continuous_update=False,readout_format='.0f')\n",
    "w_amp = widgets.FloatSlider(value=0.1,min=-.2,max=.8,step=.01,continuous_update=False,readout_format='.2f')\n",
    "w_diam = widgets.FloatSlider(value=diam,min=100,max=300,step=2,continuous_update=False,readout_format='.0f')\n",
    "w_cm = widgets.FloatLogSlider(value=cm,min=-1,max=1,step=.05,continuous_update=False,readout_format='.1f')\n",
    "\n",
    "def update_pass(*args):\n",
    "    if w_pass.value:\n",
    "        global gna,gk\n",
    "        gna = w_gna.value\n",
    "        gk = w_gk.value\n",
    "        w_gna.value = w_gk.value = 0\n",
    "        w_gna.disabled = w_gk.disabled = True\n",
    "    else:\n",
    "        w_gna.value = gna\n",
    "        w_gk.value = gk\n",
    "        w_gna.disabled = w_gk.disabled = False\n",
    "w_pass.observe(update_pass,'value')\n",
    "\n",
    "def update_dur(*args):\n",
    "    w_dur.max = w_tstop.value\n",
    "w_tstop.observe(update_dur,'value')\n",
    "\n",
    "\n",
    "ui = HBox([VBox([Label('Passive Cell'),Label(value=r'\\( E_{l}\\:(mV) \\)'),Label(value=r'\\( g_{leak}\\:(\\mu S/cm^2) \\)'),\n",
    "                 Label(value=r'\\( g_{Na}\\:(mS/cm^2) \\)'),Label(value=r'\\( g_{K}\\:(mS/cm^2) \\)')],layout=Layout(width='10%')),\n",
    "           VBox([w_pass,w_el,w_gl,w_gna,w_gk],layout=Layout(width='38%')),\n",
    "           VBox([Label(value=r'\\( tstop\\:(ms) \\)'),Label(value=r'\\( Injection duration\\:(ms) \\)'),Label(value=r'\\( I_{inject}\\:(nA) \\)'),\n",
    "                 Label(value=r'\\( soma\\:diameter\\:(\\mu m) \\)'),Label(value=r'\\( capacitance\\:scale \\)')],layout=Layout(width='14%')),\n",
    "           VBox([w_tstop,w_dur,w_amp,w_diam,w_cm],layout=Layout(width='38%')) ])\n",
    "\n",
    "out = widgets.interactive_output(activemodel,{'el':w_el,'gl':w_gl,'gna':w_gna,'gk':w_gk,\n",
    "                                              'tstop':w_tstop,'dur':w_dur,'amp':w_amp,'diam':w_diam,'cm':w_cm})\n",
    "display(ui,out)"
   ]
  },
  {
   "cell_type": "code",
   "execution_count": null,
   "metadata": {},
   "outputs": [],
   "source": []
  }
 ],
 "metadata": {
  "kernelspec": {
   "display_name": "Python 3",
   "language": "python",
   "name": "python3"
  },
  "language_info": {
   "codemirror_mode": {
    "name": "ipython",
    "version": 3
   },
   "file_extension": ".py",
   "mimetype": "text/x-python",
   "name": "python",
   "nbconvert_exporter": "python",
   "pygments_lexer": "ipython3",
   "version": "3.6.7"
  },
  "widgets": {
   "state": {
    "bc2e3fb90c9349f49fd5bbecf497b454": {
     "views": [
      {
       "cell_index": 18
      }
     ]
    }
   },
   "version": "1.2.0"
  }
 },
 "nbformat": 4,
 "nbformat_minor": 2
}
