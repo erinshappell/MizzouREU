{
 "cells": [
  {
   "cell_type": "markdown",
   "metadata": {},
   "source": [
    "V_dot =  -3 * V + 30, V(0) = -60"
   ]
  },
  {
   "cell_type": "code",
   "execution_count": 6,
   "metadata": {},
   "outputs": [
    {
     "data": {
      "image/png": "[encoded data removed]",
      "text/plain": [
       "<Figure size 432x288 with 1 Axes>"
      ]
     },
     "metadata": {
      "needs_background": "light"
     },
     "output_type": "display_data"
    }
   ],
   "source": [
    "import numpy as np\n",
    "import matplotlib.pyplot as plt\n",
    "%matplotlib inline\n",
    "\n",
    "dt = 0.1\n",
    "t = 0\n",
    "V = -60\n",
    "\n",
    "vv = [V]\n",
    "tt = [t]\n",
    "\n",
    "while t<10:\n",
    "    V = V + ((-3 * V + 30) * dt)\n",
    "    t = t + dt\n",
    "    vv.append(V)\n",
    "    tt.append(t)\n",
    "    \n",
    "plt.figure()\n",
    "plt.plot(tt,vv)\n",
    "plt.show()"
   ]
  },
  {
   "cell_type": "code",
   "execution_count": null,
   "metadata": {},
   "outputs": [],
   "source": []
  }
 ],
 "metadata": {
  "kernelspec": {
   "display_name": "Python 3",
   "language": "python",
   "name": "python3"
  },
  "language_info": {
   "codemirror_mode": {
    "name": "ipython",
    "version": 3
   },
   "file_extension": ".py",
   "mimetype": "text/x-python",
   "name": "python",
   "nbconvert_exporter": "python",
   "pygments_lexer": "ipython3",
   "version": "3.6.7"
  }
 },
 "nbformat": 4,
 "nbformat_minor": 2
}
