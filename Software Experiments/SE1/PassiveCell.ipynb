{
 "cells": [
  {
   "cell_type": "markdown",
   "metadata": {
    "hideCode": true,
    "hidePrompt": true
   },
   "source": [
    "# Passive Cell Tutorial\n",
    "\n",
    "##### Developed in the Neural Engineering Laboratory at the University of Missouri by Ben Latimer\n",
    "\n",
    "<img src=\"Neuron_1.jpg\">\n",
    "\n",
    "### In this tutorial, we'll explore the properties of the cell membrane and how to simulate a cell in the NEURON + Python environment. If this is your first time coding, don't worry! Just click the \"Run\" button above to go through step-by-step. You don't need to change anything yet. \n",
    "\n",
    "### Before you start any project, you need to get the tools. In Python, we do this using the \"import\" statement in the cell below. Click \"Run\" to proceed."
   ]
  },
  {
   "cell_type": "code",
   "execution_count": 8,
   "metadata": {
    "code_folding": []
   },
   "outputs": [
    {
     "data": {
      "text/plain": [
       "1.0"
      ]
     },
     "execution_count": 8,
     "metadata": {},
     "output_type": "execute_result"
    }
   ],
   "source": [
    "#%matplotlib qt5\n",
    "from neuron import h\n",
    "from matplotlib import pyplot\n",
    "\n",
    "h.load_file('stdrun.hoc')"
   ]
  },
  {
   "cell_type": "markdown",
   "metadata": {},
   "source": [
    "## 1) <u>Create the cell and define its geometry\n",
    "\n",
    "#### NEURON defines a cell as a cylinder so we only need to give length and diameter\n",
    "\n",
    "<img src=\"cylinder.png\">"
   ]
  },
  {
   "cell_type": "code",
   "execution_count": 9,
   "metadata": {},
   "outputs": [],
   "source": [
    "#Create the soma section and define the default parameters\n",
    "soma = h.Section(name='soma')\n",
    "soma.diam = 200 #default is micrometers\n",
    "soma.L = 100 #um"
   ]
  },
  {
   "cell_type": "markdown",
   "metadata": {},
   "source": [
    "## 2) <u>Define the cell's biophysics"
   ]
  },
  {
   "cell_type": "code",
   "execution_count": 10,
   "metadata": {},
   "outputs": [],
   "source": [
    "soma.cm = 1.4884e-4/6.2832e-4 #uF\n",
    "\n",
    "#Insert the Hodgkin-Huxley channels and define the conductances\n",
    "soma.insert('hh')\n",
    "\n",
    "#We're making the active conductances zero because we want to model a passive cell\n",
    "soma.gnabar_hh = 0.0 \n",
    "soma.gkbar_hh = 0.0\n",
    "soma.gl_hh = 2.0e-5\n",
    "soma.el_hh = -70\n",
    "\n",
    "v_init = h.v_init= -60"
   ]
  },
  {
   "cell_type": "markdown",
   "metadata": {},
   "source": [
    "## 3) <u>Inject Current\n",
    "### Neuroscientists call this experiment a \"current clamp\". We place an electrode into the cell and inject current."
   ]
  },
  {
   "cell_type": "code",
   "execution_count": 11,
   "metadata": {},
   "outputs": [],
   "source": [
    "#Inject current in the middle of the soma\n",
    "stim = h.IClamp(soma(0.5))\n",
    "stim.delay = 100.0 #ms\n",
    "stim.dur = 500.0 #ms\n",
    "stim.amp = 100.0 #nA"
   ]
  },
  {
   "cell_type": "markdown",
   "metadata": {},
   "source": [
    "## 4) <u>Setup the simulation and look at the results!"
   ]
  },
  {
   "cell_type": "code",
   "execution_count": 12,
   "metadata": {},
   "outputs": [
    {
     "data": {
      "image/png": "[encoded data removed]",
      "text/plain": [
       "<Figure size 432x288 with 1 Axes>"
      ]
     },
     "metadata": {
      "needs_background": "light"
     },
     "output_type": "display_data"
    }
   ],
   "source": [
    "# We use this package for visualization\n",
    "import matplotlib.pyplot as plt\n",
    "\n",
    "tstop = h.tstop = 800   #ms\n",
    "h.dt = 0.025\n",
    "\n",
    "v0_vec = h.Vector()\n",
    "t_vec = h.Vector()\n",
    "\n",
    "v0_vec.record(soma(0.5)._ref_v)\n",
    "t_vec.record(h._ref_t)\n",
    "\n",
    "h.run()\n",
    "\n",
    "plt.figure()\n",
    "plt.plot(t_vec, v0_vec,'b')\n",
    "plt.xlim(0, tstop)\n",
    "plt.xlabel('time (ms)')\n",
    "plt.ylabel('mV')\n",
    "\n",
    "plt.show()"
   ]
  },
  {
   "cell_type": "markdown",
   "metadata": {},
   "source": [
    "## 5) <u> Interact with the model\n",
    "\n",
    "##### So far, we've built the cell and simulated it with one set of parameters. But what if we want to change the parameters to see the effect on the output? In this part of the tutorial, we'll set the model up and then use sliders to interact with the parameters. Don't worry about all the code that's coming up, it's just a repeat of what we've already done."
   ]
  },
  {
   "cell_type": "code",
   "execution_count": 18,
   "metadata": {
    "code_folding": []
   },
   "outputs": [],
   "source": [
    "from ipywidgets import interactive\n",
    "def passivemodel(L,diam,cm,gl,el):\n",
    "    soma = h.Section(name='soma')\n",
    "    soma.diam = diam #default is micrometers\n",
    "    soma.L = L #um\n",
    "    soma.cm = cm\n",
    "    soma.insert('hh')\n",
    "    soma.gnabar_hh = 0.0 \n",
    "    soma.gkbar_hh = 0.0\n",
    "    soma.gl_hh = gl*1e-5\n",
    "    soma.el_hh = el\n",
    "\n",
    "    v_init = h.v_init= el\n",
    "    stim = h.IClamp(soma(0.5))\n",
    "    stim.delay = 200.0 #ms\n",
    "    stim.dur = 500.0 #ms\n",
    "    stim.amp = 1.0 #nA\n",
    "    tstop = h.tstop = 1000   #ms\n",
    "    h.dt = 0.025\n",
    "\n",
    "    v0_vec = h.Vector()\n",
    "    t_vec = h.Vector()\n",
    "\n",
    "    v0_vec.record(soma(0.5)._ref_v)\n",
    "    t_vec.record(h._ref_t)\n",
    "\n",
    "    h.run()\n",
    "\n",
    "    plt.figure(figsize=(10,7))\n",
    "    plt.plot(t_vec, v0_vec,'b')\n",
    "    plt.xlim(0, tstop)\n",
    "    plt.ylim(-80,60)\n",
    "    plt.xlabel('time (ms)')\n",
    "    plt.ylabel('mV')\n",
    "\n",
    "    plt.show()"
   ]
  },
  {
   "cell_type": "code",
   "execution_count": 19,
   "metadata": {},
   "outputs": [
    {
     "data": {
      "application/vnd.jupyter.widget-view+json": {
       "model_id": "8b5d5eb07b4a47cbbe29340a4ba66816",
       "version_major": 2,
       "version_minor": 0
      },
      "text/plain": [
       "interactive(children=(IntSlider(value=140, description='L', max=300, step=20), IntSlider(value=140, descriptio…"
      ]
     },
     "metadata": {},
     "output_type": "display_data"
    }
   ],
   "source": [
    "interactive(passivemodel,L=(0,300,20),diam=(0,300,20),cm=(0.1,2,0.1),gl=(0.5,4,0.1),el=(-80,-60,2))"
   ]
  },
  {
   "cell_type": "code",
   "execution_count": null,
   "metadata": {},
   "outputs": [],
   "source": []
  }
 ],
 "metadata": {
  "celltoolbar": "Initialization Cell",
  "hide_code_all_hidden": true,
  "kernelspec": {
   "display_name": "Python 3",
   "language": "python",
   "name": "python3"
  },
  "language_info": {
   "codemirror_mode": {
    "name": "ipython",
    "version": 3
   },
   "file_extension": ".py",
   "mimetype": "text/x-python",
   "name": "python",
   "nbconvert_exporter": "python",
   "pygments_lexer": "ipython3",
   "version": "3.6.7"
  },
  "widgets": {
   "state": {
    "2ef9ff8ad8c64fd591a39c087cb5056a": {
     "views": [
      {
       "cell_index": 12
      }
     ]
    }
   },
   "version": "1.2.0"
  }
 },
 "nbformat": 4,
 "nbformat_minor": 2
}
